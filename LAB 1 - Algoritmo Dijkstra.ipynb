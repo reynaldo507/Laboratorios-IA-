{
 "cells": [
  {
   "cell_type": "code",
   "execution_count": 9,
   "metadata": {},
   "outputs": [],
   "source": [
    "import pandas as pd\n",
    "import numpy as np\n",
    "import sys"
   ]
  },
  {
   "cell_type": "code",
   "execution_count": 10,
   "metadata": {},
   "outputs": [],
   "source": [
    "# Función para ver qué nodo que no ha sido visitado, necesita ser visitado en el siguiente paso\n",
    "\n",
    "def nodos_a_visitar():\n",
    "  global visited_and_distance\n",
    "  v = -10\n",
    "  # Eligiendo el vértice con la mínima distancia\n",
    "  for index in range(number_of_vertices):\n",
    "    if visited_and_distance[index][0] == 0 \\\n",
    "      and (v < 0 or visited_and_distance[index][1] <= \\\n",
    "      visited_and_distance[v][1]):\n",
    "        v = index\n",
    "  return v"
   ]
  },
  {
   "cell_type": "code",
   "execution_count": 11,
   "metadata": {},
   "outputs": [],
   "source": [
    "#Representado el grafico de nodos como una matriz\n",
    "\n",
    "# En la matríz de vértices se vé qué NODOS se conectan con otros NODOS\n",
    "\n",
    "#grafo =      A  B  C  D  E  F  G  H  I\n",
    "          #A[[0, 1, 1, 0, 0, 0, 0, 0 ,0],\n",
    "           #B[1, 0, 0, 0, 1, 1, 0, 0, 0],\n",
    "           #C[1, 0, 0, 1, 1, 0, 0, 0, 0],\n",
    "           #D[0, 0, 1, 0, 1, 0, 1, 0, 0],\n",
    "           #E[0, 1, 1, 1, 0, 0, 1, 1, 0],\n",
    "           #F[0, 1, 0, 0, 0, 0, 0, 1, 0],\n",
    "           #G[0, 0, 0, 1, 1, 0, 0, 0, 1],\n",
    "           #H[0, 0, 0, 0, 1, 1, 0, 0, 1],\n",
    "           #I[0, 0, 0, 0, 0, 0, 1, 1, 0]]\n",
    "\n",
    "vertices = [[0, 1, 1, 0, 0, 0, 0, 0 ,0],\n",
    "            [1, 0, 0, 0, 1, 1, 0, 0, 0],\n",
    "            [1, 0, 0, 1, 1, 0, 0, 0, 0],\n",
    "            [0, 0, 1, 0, 1, 0, 1, 0, 0],\n",
    "            [0, 1, 1, 1, 0, 0, 1, 1, 0],\n",
    "            [0, 1, 0, 0, 0, 0, 0, 1, 0],\n",
    "            [0, 0, 0, 1, 1, 0, 0, 0, 1],\n",
    "            [0, 0, 0, 0, 1, 1, 0, 0, 1],\n",
    "            [0, 0, 0, 0, 0, 0, 1, 1, 0]]\n",
    "\n",
    "#En la matriz de ejes, se reemplaza 1 de la matríz de arriba por el valor que tiene la conexión entre los 2 NODOS\n",
    "\n",
    "edges =    [[0, 5, 9, 0, 0, 0, 0, 0 ,0],\n",
    "            [5, 0, 0, 0, 10, 7, 0, 0, 0],\n",
    "            [9, 0, 0, 3, 5, 0, 0, 0, 0],\n",
    "            [0, 0, 3, 0, 1, 0, 4, 0, 0],\n",
    "            [0, 10, 5, 1, 0, 0, 4, 2, 0],\n",
    "            [0, 7, 0, 0, 0, 0, 0, 8, 0],\n",
    "            [0, 0, 0, 4, 4, 0, 0, 0, 12],\n",
    "            [0, 0, 0, 0, 2, 8, 0, 0, 6],\n",
    "            [0, 0, 0, 0, 0, 0, 12, 6, 0]]\n",
    "\n",
    "\n",
    "\n",
    "\n",
    "number_of_vertices = len(vertices[0])"
   ]
  },
  {
   "cell_type": "code",
   "execution_count": 12,
   "metadata": {},
   "outputs": [],
   "source": [
    "#El primer elemento de la lista nodovisitado_mas_distancia denota que el nodo ya ha sido visitado,\n",
    "#El segundo valor representa el valor de la distancia al nodo fuente A\n",
    "\n",
    "visited_and_distance = [[0, 0]]\n",
    "for i in range(number_of_vertices-1):\n",
    "  visited_and_distance.append([0, sys.maxsize])"
   ]
  },
  {
   "cell_type": "code",
   "execution_count": 13,
   "metadata": {},
   "outputs": [],
   "source": [
    "for vertex in range(number_of_vertices):\n",
    "  # Se calcula los nodos a visitar\n",
    "  to_visit = nodos_a_visitar()\n",
    "  for neighbor_index in range(number_of_vertices):\n",
    "    #Se calcula la nueva distancia para los nodos que no han sido visitado para el vertice elegido\n",
    "    if vertices[to_visit][neighbor_index] == 1 and \\\n",
    "     visited_and_distance[neighbor_index][0] == 0:\n",
    "      new_distance = visited_and_distance[to_visit][1] \\\n",
    "      + edges[to_visit][neighbor_index]\n",
    "      if visited_and_distance[neighbor_index][1] > new_distance:\n",
    "        visited_and_distance[neighbor_index][1] = new_distance\n",
    "  visited_and_distance[to_visit][0] = 1"
   ]
  },
  {
   "cell_type": "code",
   "execution_count": 8,
   "metadata": {},
   "outputs": [
    {
     "name": "stdout",
     "output_type": "stream",
     "text": [
      "El camino óptimo o la menor distancia del nodo  a  al nodo fuente A es: 0\n",
      "El camino óptimo o la menor distancia del nodo  b  al nodo fuente A es: 5\n",
      "El camino óptimo o la menor distancia del nodo  c  al nodo fuente A es: 9\n",
      "El camino óptimo o la menor distancia del nodo  d  al nodo fuente A es: 12\n",
      "El camino óptimo o la menor distancia del nodo  e  al nodo fuente A es: 13\n",
      "El camino óptimo o la menor distancia del nodo  f  al nodo fuente A es: 12\n",
      "El camino óptimo o la menor distancia del nodo  g  al nodo fuente A es: 16\n",
      "El camino óptimo o la menor distancia del nodo  h  al nodo fuente A es: 15\n",
      "El camino óptimo o la menor distancia del nodo  i  al nodo fuente A es: 21\n"
     ]
    }
   ],
   "source": [
    "i = 0 \n",
    "\n",
    "# Imprimiendo los resultados     \n",
    "for distance in visited_and_distance:\n",
    "  print(\"El camino óptimo o la menor distancia del nodo \",chr(ord('a') + i),\\\n",
    "  \" al nodo fuente A es:\",distance[1])\n",
    "  i = i + 1"
   ]
  },
  {
   "cell_type": "code",
   "execution_count": null,
   "metadata": {},
   "outputs": [],
   "source": []
  }
 ],
 "metadata": {
  "kernelspec": {
   "display_name": "Python 3",
   "language": "python",
   "name": "python3"
  },
  "language_info": {
   "codemirror_mode": {
    "name": "ipython",
    "version": 3
   },
   "file_extension": ".py",
   "mimetype": "text/x-python",
   "name": "python",
   "nbconvert_exporter": "python",
   "pygments_lexer": "ipython3",
   "version": "3.8.3"
  }
 },
 "nbformat": 4,
 "nbformat_minor": 4
}
